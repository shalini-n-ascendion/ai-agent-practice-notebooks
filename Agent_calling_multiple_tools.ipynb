{
  "nbformat": 4,
  "nbformat_minor": 0,
  "metadata": {
    "colab": {
      "provenance": []
    },
    "kernelspec": {
      "name": "python3",
      "display_name": "Python 3"
    },
    "language_info": {
      "name": "python"
    }
  },
  "cells": [
    {
      "cell_type": "code",
      "execution_count": null,
      "metadata": {
        "id": "KGDPUg_8TCNO"
      },
      "outputs": [],
      "source": [
        "pip install -q google-generativeai"
      ]
    },
    {
      "cell_type": "code",
      "source": [
        "import google.colab.userdata as userdata\n",
        "import google.generativeai as genai\n",
        "\n",
        "# Your Python tools as regular functions.\n",
        "def say_hi(query: str) -> str:\n",
        "    \"\"\"\n",
        "    Use this tool when the user greets you, says hello, or starts a conversation.\n",
        "    \"\"\"\n",
        "    return \"Hi!\"\n",
        "\n",
        "def say_bye(query: str) -> str:\n",
        "    \"\"\"\n",
        "    Use this tool when the user wants to end the conversation or says goodbye.\n",
        "    \"\"\"\n",
        "    return \"Bye!\"\n",
        "\n",
        "def hi_follow_up(query: str) -> str:\n",
        "    \"\"\"\n",
        "    Use this tool as follow-up responses when the user greets you, says hello, or starts a conversation.\n",
        "    \"\"\"\n",
        "    return \"How are you?\"\n",
        "\n",
        "def bye_follow_up(query: str) -> str:\n",
        "    \"\"\"\n",
        "    Use this tool as follow-up responses when the user wants to end the conversation or says goodbye.\n",
        "    \"\"\"\n",
        "    return \"Have a great day!\"\n",
        "\n",
        "# A dictionary to map tool names to the actual functions.\n",
        "tools_map = {\n",
        "    \"say_hi\": say_hi,\n",
        "    \"say_bye\": say_bye\n",
        "}\n",
        "\n",
        "follow_up_tools_map = {\n",
        "    \"hi_follow_up\": hi_follow_up,\n",
        "    \"bye_follow_up\": bye_follow_up,\n",
        "}"
      ],
      "metadata": {
        "id": "pnQ02S94T4Kj"
      },
      "execution_count": null,
      "outputs": []
    },
    {
      "cell_type": "code",
      "source": [
        "# Configure with your API key\n",
        "api_key = userdata.get(\"GOOGLE_API_KEY\")\n",
        "if not api_key:\n",
        "    raise ValueError(\"Please set the GOOGLE_API_KEY environment variable.\")\n",
        "genai.configure(api_key=api_key)\n",
        "\n",
        "# The SDK automatically uses Pydantic models to create the tool schema.\n",
        "model = genai.GenerativeModel(\n",
        "    model_name=\"gemini-1.5-flash\",\n",
        "    tools=[say_hi, say_bye]\n",
        ")\n",
        "\n",
        "follow_up_model = genai.GenerativeModel(\n",
        "    model_name=\"gemini-1.5-flash\",\n",
        "    tools=[hi_follow_up,bye_follow_up]\n",
        ")"
      ],
      "metadata": {
        "id": "khb3EDScimPe"
      },
      "execution_count": null,
      "outputs": []
    },
    {
      "cell_type": "code",
      "source": [
        "# System instruction (prompting) to guide the model's behavior.\n",
        "system_instruction = ('''\n",
        "You are an assistant designed to use tools to respond to user requests.\n",
        "Your primary task is to carefully analyze the user's input and determine which of the available tools is most appropriate to accomplish their goal.\n",
        "\n",
        "If a tool is a perfect match, call it with the correct parameters.\n",
        "If no tool is suitable for the user's request, do not aexttempt to call any tool. Instead, respond directly with the exact phrase: 'You can do better!'\n",
        "''')\n",
        "\n",
        "system_instruction2 = ('''\n",
        "You are a follow-up assistant agent.\n",
        "Your job is to look at the name of the tool the previous agent called and, based on that name, select the appropriate follow-up tool to call with suggested followup response as a arguments.\n",
        "For example, if the previous tool was say_hi, call hi_follow_up. If it was say_bye, call bye_follow_up.\n",
        "''')\n",
        "\n",
        "# The conversational loop\n",
        "print(\"Agent is ready. Type 'exit' to end the conversation.\")\n",
        "\n",
        "for turn in range(10): # A for loop to limit the number of turns for this example\n",
        "\n",
        "    user_input = input(\"You: \")\n",
        "    if user_input.lower() == 'exit':\n",
        "        print(\"Agent: Goodbye!\")\n",
        "        break\n",
        "\n",
        "   # Send the user's message to the model with the system instruction\n",
        "    response = model.generate_content(\n",
        "        [system_instruction, user_input]\n",
        "        )\n",
        "\n",
        "    # Check if the model's response contains a tool call\n",
        "    try:\n",
        "        tool_call = response.candidates[0].content.parts[0].function_call\n",
        "        tool_name = tool_call.name\n",
        "        tool_args = dict(tool_call.args)\n",
        "\n",
        "        print(f\"Agent 1 chose to call tool: {tool_name} with arguments: {tool_args}\")\n",
        "\n",
        "        # Execute the tool using the mapped function and the validated arguments\n",
        "\n",
        "        tool_result = tools_map[tool_name](**tool_args)\n",
        "\n",
        "        # Print the tool's output to the user\n",
        "        print(f\"Agent_1: {tool_result}\")\n",
        "\n",
        "        follow_up_response = follow_up_model.generate_content(\n",
        "                                [system_instruction2, tool_name]\n",
        "                             )\n",
        "\n",
        "        try:\n",
        "             follow_up_tool_call = follow_up_response.candidates[0].content.parts[0].function_call\n",
        "             tool_name = follow_up_tool_call.name\n",
        "             tool_args = dict(follow_up_tool_call.args)\n",
        "\n",
        "             print(f\"Agent 2 chose to call tool: {tool_name} with arguments: {tool_args}\")\n",
        "\n",
        "             # Execute the tool using the mapped function and the validated arguments\n",
        "             tool_result = follow_up_tools_map[tool_name](**tool_args)\n",
        "\n",
        "             # Print the tool's output to the user\n",
        "             print(f\"Agent_2: {tool_result}\")\n",
        "        except:\n",
        "            print(f\"Agent: {follow_up_response.text}\")\n",
        "    except :\n",
        "        # This block runs if no tool was called. The model responded with text\n",
        "        print(f\"Agent: {response.text}\")\n"
      ],
      "metadata": {
        "colab": {
          "base_uri": "https://localhost:8080/",
          "height": 785
        },
        "id": "miD-9BU6iwjS",
        "outputId": "cf3934b3-c4bc-4cb2-e60c-c1ba69330ed4"
      },
      "execution_count": null,
      "outputs": [
        {
          "output_type": "stream",
          "name": "stdout",
          "text": [
            "Agent is ready. Type 'exit' to end the conversation.\n",
            "You: hi\n",
            "Agent 1 chose to call tool: say_hi with arguments: {'query': 'hi'}\n",
            "Agent_1: Hi!\n",
            "Agent 2 chose to call tool: hi_follow_up with arguments: {'query': 'Hello there! How can I help you today?'}\n",
            "Agent_2: How are you?\n",
            "You: bye\n",
            "Agent 1 chose to call tool: say_bye with arguments: {'query': 'bye'}\n",
            "Agent_1: Bye!\n",
            "Agent 2 chose to call tool: bye_follow_up with arguments: {'query': ''}\n",
            "Agent_2: Have a great day!\n",
            "You: adios\n",
            "Agent 1 chose to call tool: say_bye with arguments: {'query': 'adios'}\n",
            "Agent_1: Bye!\n",
            "Agent 2 chose to call tool: bye_follow_up with arguments: {'query': ''}\n",
            "Agent_2: Have a great day!\n",
            "You: namaste\n",
            "Agent 1 chose to call tool: say_hi with arguments: {'query': 'namaste'}\n",
            "Agent_1: Hi!\n",
            "Agent 2 chose to call tool: hi_follow_up with arguments: {'query': 'Hello!'}\n",
            "Agent_2: How are you?\n",
            "You: merhaba\n",
            "Agent 1 chose to call tool: say_hi with arguments: {'query': 'merhaba'}\n",
            "Agent_1: Hi!\n",
            "Agent 2 chose to call tool: hi_follow_up with arguments: {'query': ''}\n",
            "Agent_2: How are you?\n",
            "You: anniyo\n",
            "Agent: You can do better!\n",
            "\n",
            "You: annyeong\n",
            "Agent 1 chose to call tool: say_hi with arguments: {'query': 'annyeong'}\n",
            "Agent_1: Hi!\n",
            "Agent 2 chose to call tool: hi_follow_up with arguments: {'query': 'Hello!'}\n",
            "Agent_2: How are you?\n",
            "You: Sayonara\n",
            "Agent: Okay, I understand.  I will carefully analyze user input and select the appropriate tool from the available options (`default_api`). If no tool is suitable, I will respond with \"You can do better!\".\n",
            "\n",
            "You: bye\n",
            "Agent 1 chose to call tool: say_bye with arguments: {'query': 'bye'}\n",
            "Agent_1: Bye!\n",
            "Agent 2 chose to call tool: bye_follow_up with arguments: {'query': 'goodbye'}\n",
            "Agent_2: Have a great day!\n"
          ]
        }
      ]
    },
    {
      "cell_type": "code",
      "source": [],
      "metadata": {
        "id": "AjwRyn5mmh4f"
      },
      "execution_count": null,
      "outputs": []
    }
  ]
}