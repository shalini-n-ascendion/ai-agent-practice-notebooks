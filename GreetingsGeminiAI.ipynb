{
  "nbformat": 4,
  "nbformat_minor": 0,
  "metadata": {
    "colab": {
      "provenance": []
    },
    "kernelspec": {
      "name": "python3",
      "display_name": "Python 3"
    },
    "language_info": {
      "name": "python"
    }
  },
  "cells": [
    {
      "cell_type": "code",
      "execution_count": null,
      "metadata": {
        "colab": {
          "base_uri": "https://localhost:8080/"
        },
        "id": "bqbHh8uHPOCX",
        "outputId": "293026c5-fa30-4c0f-ce08-a8b4ae3a78bc"
      },
      "outputs": [
        {
          "output_type": "stream",
          "name": "stdout",
          "text": [
            "\u001b[2K   \u001b[90m━━━━━━━━━━━━━━━━━━━━━━━━━━━━━━━━━━━━━━━━\u001b[0m \u001b[32m49.4/49.4 kB\u001b[0m \u001b[31m651.3 kB/s\u001b[0m eta \u001b[36m0:00:00\u001b[0m\n",
            "\u001b[2K   \u001b[90m━━━━━━━━━━━━━━━━━━━━━━━━━━━━━━━━━━━━━━━━\u001b[0m \u001b[32m1.4/1.4 MB\u001b[0m \u001b[31m6.2 MB/s\u001b[0m eta \u001b[36m0:00:00\u001b[0m\n",
            "\u001b[?25h\u001b[31mERROR: pip's dependency resolver does not currently take into account all the packages that are installed. This behaviour is the source of the following dependency conflicts.\n",
            "google-generativeai 0.8.5 requires google-ai-generativelanguage==0.6.15, but you have google-ai-generativelanguage 0.6.18 which is incompatible.\u001b[0m\u001b[31m\n",
            "\u001b[0m"
          ]
        }
      ],
      "source": [
        "!pip install -q langchain langchain_google_genai"
      ]
    },
    {
      "cell_type": "code",
      "source": [
        "import google.colab.userdata as userdata\n",
        "from langchain_google_genai import ChatGoogleGenerativeAI\n",
        "from langchain.agents import AgentExecutor, create_tool_calling_agent\n",
        "from langchain_core.prompts import ChatPromptTemplate\n",
        "from langchain.tools import tool\n",
        "print(\"Libraries installed and imported successfully.\")"
      ],
      "metadata": {
        "colab": {
          "base_uri": "https://localhost:8080/"
        },
        "id": "kt-6yFunQCZX",
        "outputId": "1423424f-777f-4b8b-ae74-7f83eb6e86cd"
      },
      "execution_count": null,
      "outputs": [
        {
          "output_type": "stream",
          "name": "stdout",
          "text": [
            "Libraries installed and imported successfully.\n"
          ]
        }
      ]
    },
    {
      "cell_type": "code",
      "source": [
        "try:\n",
        "    GOOGLE_API_KEY = userdata.get('GOOGLE_API_KEY')\n",
        "    print(\"Google API Key loaded successfully.\")\n",
        "except Exception as e:\n",
        "    print(\"Could not load Google API Key. Please follow the instructions to add it to Colab's secrets.\")\n",
        "    # Stop execution if the key is not found.\n",
        "    raise e\n"
      ],
      "metadata": {
        "colab": {
          "base_uri": "https://localhost:8080/"
        },
        "id": "J1udX324RE0r",
        "outputId": "576ee8ce-da90-46f1-a8ab-585e0866b494"
      },
      "execution_count": null,
      "outputs": [
        {
          "output_type": "stream",
          "name": "stdout",
          "text": [
            "Google API Key loaded successfully.\n"
          ]
        }
      ]
    },
    {
      "cell_type": "code",
      "source": [
        "@tool\n",
        "def say_hi(query: str) -> str:\n",
        "    \"\"\"\n",
        "    Use this tool when the user greets you, says hello, or starts a conversation.\n",
        "    Example prompts: 'Hi', 'Hello there', 'How are you?'\n",
        "    \"\"\"\n",
        "    return \"Hi\"\n",
        "\n",
        "@tool\n",
        "def say_bye(query: str) -> str:\n",
        "    \"\"\"\n",
        "    Use this tool when the user wants to end the conversation or says goodbye.\n",
        "    Example prompts: 'Goodbye', 'See you later', 'Bye now'\n",
        "    \"\"\"\n",
        "    return \"Bye\"\n",
        "\n",
        "tools = [say_hi, say_bye]\n",
        "print(\"Tools defined: say_hi, say_bye\")"
      ],
      "metadata": {
        "colab": {
          "base_uri": "https://localhost:8080/"
        },
        "id": "LER5b2DFRMwu",
        "outputId": "0d994f59-7aa4-4ddf-ce5f-a5b5430b5f7c"
      },
      "execution_count": null,
      "outputs": [
        {
          "output_type": "stream",
          "name": "stdout",
          "text": [
            "Tools defined: say_hi, say_bye\n"
          ]
        }
      ]
    },
    {
      "cell_type": "code",
      "source": [
        "llm = ChatGoogleGenerativeAI(\n",
        "    model=\"gemini-1.5-flash\",\n",
        "    google_api_key=GOOGLE_API_KEY\n",
        "    )\n",
        "\n",
        "prompt = ChatPromptTemplate.from_messages([\n",
        "    (\"system\", \"You are an assistant. Your only job is to decide whether to use the 'say_hi' tool or the 'say_bye' tool based on the user's input.\"),\n",
        "    (\"human\", \"{input}\"),\n",
        "    (\"placeholder\", \"{agent_scratchpad}\"),\n",
        "])\n",
        "\n",
        "agent = create_tool_calling_agent(llm, tools, prompt)\n",
        "\n",
        "agent_executor = AgentExecutor(agent=agent, tools=tools, verbose=True)\n",
        "print(\"Agent created and ready to go!\")"
      ],
      "metadata": {
        "colab": {
          "base_uri": "https://localhost:8080/"
        },
        "id": "fZVkeWawRVoL",
        "outputId": "ae513a7e-5910-4b98-da26-5206b4eb7705"
      },
      "execution_count": null,
      "outputs": [
        {
          "output_type": "stream",
          "name": "stdout",
          "text": [
            "Agent created and ready to go!\n"
          ]
        }
      ]
    },
    {
      "cell_type": "markdown",
      "source": [],
      "metadata": {
        "id": "QGxzg0rK93EM"
      }
    },
    {
      "cell_type": "code",
      "source": [
        "\n",
        "print(\"\\n--- Running Test Case 1: Greeting ---\")\n",
        "response_hi = agent_executor.invoke({\"input\": \"Hello\"})\n",
        "#print (response_hi['output'])\n",
        "print(\"\\nFinal Answer:\", response_hi['output'])"
      ],
      "metadata": {
        "colab": {
          "base_uri": "https://localhost:8080/"
        },
        "id": "Gw8Yzxy4RvsT",
        "outputId": "3d7945f6-b341-4296-a8aa-929048c77268"
      },
      "execution_count": null,
      "outputs": [
        {
          "output_type": "stream",
          "name": "stdout",
          "text": [
            "\n",
            "--- Running Test Case 1: Greeting ---\n",
            "\n",
            "\n",
            "\u001b[1m> Entering new AgentExecutor chain...\u001b[0m\n",
            "\u001b[32;1m\u001b[1;3m\n",
            "Invoking: `say_hi` with `{'query': 'Hello'}`\n",
            "\n",
            "\n",
            "\u001b[0m\u001b[36;1m\u001b[1;3mHi\u001b[0m\u001b[32;1m\u001b[1;3mOK. I used the `say_hi` tool.\n",
            "\u001b[0m\n",
            "\n",
            "\u001b[1m> Finished chain.\u001b[0m\n",
            "\n",
            "Final Answer: OK. I used the `say_hi` tool.\n",
            "\n"
          ]
        }
      ]
    },
    {
      "cell_type": "code",
      "source": [
        "print(\"\\n\\n--- Running Test Case 2: Farewell ---\")\n",
        "response_bye = agent_executor.invoke({\"input\": \"Ok, goodbye for now.\"})\n",
        "print(\"\\nFinal Answer:\", response_bye['output'])"
      ],
      "metadata": {
        "colab": {
          "base_uri": "https://localhost:8080/"
        },
        "id": "x1R6WcSlSJbr",
        "outputId": "1c3e53bc-e137-4632-b9d9-f90cbecf37f8"
      },
      "execution_count": null,
      "outputs": [
        {
          "output_type": "stream",
          "name": "stdout",
          "text": [
            "\n",
            "\n",
            "--- Running Test Case 2: Farewell ---\n",
            "\n",
            "\n",
            "\u001b[1m> Entering new AgentExecutor chain...\u001b[0m\n",
            "\u001b[32;1m\u001b[1;3m\n",
            "Invoking: `say_bye` with `{'query': 'Ok, goodbye for now.'}`\n",
            "\n",
            "\n",
            "\u001b[0m\u001b[33;1m\u001b[1;3mBye\u001b[0m\u001b[32;1m\u001b[1;3mGoodbye!\n",
            "\u001b[0m\n",
            "\n",
            "\u001b[1m> Finished chain.\u001b[0m\n",
            "\n",
            "Final Answer: Goodbye!\n",
            "\n"
          ]
        }
      ]
    },
    {
      "cell_type": "code",
      "source": [
        "from langchain_google_genai import ChatGoogleGenerativeAI\n",
        "from langchain.agents import tool, Tool, AgentExecutor, create_tool_calling_agent\n",
        "from langchain_core.prompts import ChatPromptTemplate\n",
        "\n",
        "@tool\n",
        "def greet_user(input: str) -> str:\n",
        "    \"\"\"Greets the user when they say hello or hi.\"\"\"\n",
        "    return \"Hello!\"\n",
        "\n",
        "@tool\n",
        "def farewell_user(input: str) -> str:\n",
        "    \"\"\"Says goodbye when the user ends the conversation.\"\"\"\n",
        "    return \"Goodbye!\"\n",
        "\n",
        "tools = [greet_user, farewell_user]\n",
        "\n",
        "prompt = ChatPromptTemplate.from_messages([\n",
        "    (\"system\", \"You're a friendly assistant that greets or says goodbye using tools.\"),\n",
        "    (\"human\", \"{input}\"),\n",
        "    (\"placeholder\", \"{agent_scratchpad}\"),\n",
        "])\n",
        "\n",
        "llm = ChatGoogleGenerativeAI(model=\"gemini-1.5-flash\", google_api_key=GOOGLE_API_KEY)\n",
        "agent = create_tool_calling_agent(llm, tools, prompt)\n",
        "agent_executor = AgentExecutor(agent=agent, tools=tools, verbose=True)\n",
        "\n",
        "print(agent_executor.invoke({\"input\": \"Hi assistant!\"}))\n",
        "print(agent_executor.invoke({\"input\": \"See you soon!\"}))\n"
      ],
      "metadata": {
        "colab": {
          "base_uri": "https://localhost:8080/"
        },
        "id": "7X7-8H70vjvH",
        "outputId": "c7add3ef-e0d2-48f0-e5d2-e05e4e1994db"
      },
      "execution_count": null,
      "outputs": [
        {
          "output_type": "stream",
          "name": "stdout",
          "text": [
            "\n",
            "\n",
            "\u001b[1m> Entering new AgentExecutor chain...\u001b[0m\n",
            "\u001b[32;1m\u001b[1;3m\n",
            "Invoking: `greet_user` with `{'input': 'Hi assistant!'}`\n",
            "\n",
            "\n",
            "\u001b[0m\u001b[36;1m\u001b[1;3mHello!\u001b[0m\u001b[32;1m\u001b[1;3mHello!\n",
            "\u001b[0m\n",
            "\n",
            "\u001b[1m> Finished chain.\u001b[0m\n",
            "{'input': 'Hi assistant!', 'output': 'Hello!\\n'}\n",
            "\n",
            "\n",
            "\u001b[1m> Entering new AgentExecutor chain...\u001b[0m\n",
            "\u001b[32;1m\u001b[1;3m\n",
            "Invoking: `farewell_user` with `{'input': 'See you soon!'}`\n",
            "\n",
            "\n",
            "\u001b[0m\u001b[33;1m\u001b[1;3mGoodbye!\u001b[0m\u001b[32;1m\u001b[1;3mGoodbye!\n",
            "\u001b[0m\n",
            "\n",
            "\u001b[1m> Finished chain.\u001b[0m\n",
            "{'input': 'See you soon!', 'output': 'Goodbye!\\n'}\n"
          ]
        }
      ]
    }
  ]
}